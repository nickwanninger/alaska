{
 "cells": [
  {
   "cell_type": "code",
   "execution_count": 148,
   "id": "dbdb4ede",
   "metadata": {},
   "outputs": [],
   "source": [
    "import os\n",
    "import csv\n",
    "import numpy as np\n",
    "import matplotlib.pyplot as plt\n",
    "import pandas as pd\n",
    "import seaborn as sns\n",
    "import sys"
   ]
  },
  {
   "cell_type": "code",
   "execution_count": 153,
   "id": "660dad03",
   "metadata": {},
   "outputs": [
    {
     "name": "stdout",
     "output_type": "stream",
     "text": [
      "loading...\n"
     ]
    }
   ],
   "source": [
    "# %matplotlib widget\n",
    "print('loading...')\n",
    "df = pd.read_csv('../access.csv', names=['timestamp', 'address', 'size', 'action'])\n"
   ]
  },
  {
   "cell_type": "code",
   "execution_count": 155,
   "id": "2c4fad32",
   "metadata": {
    "scrolled": false
   },
   "outputs": [
    {
     "name": "stdout",
     "output_type": "stream",
     "text": [
      "        timestamp          address  size action\n",
      "1               1  281471975776256   280   lock\n",
      "2               2  281471975776256   280   lock\n",
      "3               3  281471975776256   280   lock\n",
      "4               4  281471975776256   280   lock\n",
      "5               5  281471975776256   280   lock\n",
      "...           ...              ...   ...    ...\n",
      "491061     491061  281471976930784    19   lock\n",
      "491062     491062  281471976930784    19   lock\n",
      "491063     491063  281471976930784    19   lock\n",
      "491064     491064  281471976930784    19   lock\n",
      "491065     491065  281471976930784    19   lock\n",
      "\n",
      "[472432 rows x 4 columns]\n",
      "computing spans...\n"
     ]
    },
    {
     "ename": "KeyError",
     "evalue": "0",
     "output_type": "error",
     "traceback": [
      "\u001b[0;31m---------------------------------------------------------------------------\u001b[0m",
      "\u001b[0;31mKeyError\u001b[0m                                  Traceback (most recent call last)",
      "File \u001b[0;32m~/.local/lib/python3.10/site-packages/pandas/core/indexes/base.py:3803\u001b[0m, in \u001b[0;36mIndex.get_loc\u001b[0;34m(self, key, method, tolerance)\u001b[0m\n\u001b[1;32m   3802\u001b[0m \u001b[38;5;28;01mtry\u001b[39;00m:\n\u001b[0;32m-> 3803\u001b[0m     \u001b[38;5;28;01mreturn\u001b[39;00m \u001b[38;5;28;43mself\u001b[39;49m\u001b[38;5;241;43m.\u001b[39;49m\u001b[43m_engine\u001b[49m\u001b[38;5;241;43m.\u001b[39;49m\u001b[43mget_loc\u001b[49m\u001b[43m(\u001b[49m\u001b[43mcasted_key\u001b[49m\u001b[43m)\u001b[49m\n\u001b[1;32m   3804\u001b[0m \u001b[38;5;28;01mexcept\u001b[39;00m \u001b[38;5;167;01mKeyError\u001b[39;00m \u001b[38;5;28;01mas\u001b[39;00m err:\n",
      "File \u001b[0;32m~/.local/lib/python3.10/site-packages/pandas/_libs/index.pyx:138\u001b[0m, in \u001b[0;36mpandas._libs.index.IndexEngine.get_loc\u001b[0;34m()\u001b[0m\n",
      "File \u001b[0;32m~/.local/lib/python3.10/site-packages/pandas/_libs/index.pyx:165\u001b[0m, in \u001b[0;36mpandas._libs.index.IndexEngine.get_loc\u001b[0;34m()\u001b[0m\n",
      "File \u001b[0;32mpandas/_libs/hashtable_class_helper.pxi:2263\u001b[0m, in \u001b[0;36mpandas._libs.hashtable.Int64HashTable.get_item\u001b[0;34m()\u001b[0m\n",
      "File \u001b[0;32mpandas/_libs/hashtable_class_helper.pxi:2273\u001b[0m, in \u001b[0;36mpandas._libs.hashtable.Int64HashTable.get_item\u001b[0;34m()\u001b[0m\n",
      "\u001b[0;31mKeyError\u001b[0m: 0",
      "\nThe above exception was the direct cause of the following exception:\n",
      "\u001b[0;31mKeyError\u001b[0m                                  Traceback (most recent call last)",
      "Cell \u001b[0;32mIn[155], line 11\u001b[0m\n\u001b[1;32m      9\u001b[0m dist \u001b[38;5;241m=\u001b[39m \u001b[38;5;241m0\u001b[39m\n\u001b[1;32m     10\u001b[0m average_spans[\u001b[38;5;124m'\u001b[39m\u001b[38;5;124mtimestamp\u001b[39m\u001b[38;5;124m'\u001b[39m]\u001b[38;5;241m.\u001b[39mappend(i)\n\u001b[0;32m---> 11\u001b[0m last \u001b[38;5;241m=\u001b[39m \u001b[43macc\u001b[49m\u001b[43m[\u001b[49m\u001b[38;5;124;43m'\u001b[39;49m\u001b[38;5;124;43maddress\u001b[39;49m\u001b[38;5;124;43m'\u001b[39;49m\u001b[43m]\u001b[49m\u001b[43m[\u001b[49m\u001b[43mi\u001b[49m\u001b[43m]\u001b[49m\n\u001b[1;32m     12\u001b[0m \u001b[38;5;28;01mfor\u001b[39;00m a \u001b[38;5;129;01min\u001b[39;00m acc[\u001b[38;5;124m'\u001b[39m\u001b[38;5;124maddress\u001b[39m\u001b[38;5;124m'\u001b[39m][i\u001b[38;5;241m+\u001b[39m\u001b[38;5;241m1\u001b[39m:i\u001b[38;5;241m+\u001b[39mk]:\n\u001b[1;32m     13\u001b[0m     dist \u001b[38;5;241m+\u001b[39m\u001b[38;5;241m=\u001b[39m \u001b[38;5;28mabs\u001b[39m(last \u001b[38;5;241m-\u001b[39m a)\n",
      "File \u001b[0;32m~/.local/lib/python3.10/site-packages/pandas/core/series.py:981\u001b[0m, in \u001b[0;36mSeries.__getitem__\u001b[0;34m(self, key)\u001b[0m\n\u001b[1;32m    978\u001b[0m     \u001b[38;5;28;01mreturn\u001b[39;00m \u001b[38;5;28mself\u001b[39m\u001b[38;5;241m.\u001b[39m_values[key]\n\u001b[1;32m    980\u001b[0m \u001b[38;5;28;01melif\u001b[39;00m key_is_scalar:\n\u001b[0;32m--> 981\u001b[0m     \u001b[38;5;28;01mreturn\u001b[39;00m \u001b[38;5;28;43mself\u001b[39;49m\u001b[38;5;241;43m.\u001b[39;49m\u001b[43m_get_value\u001b[49m\u001b[43m(\u001b[49m\u001b[43mkey\u001b[49m\u001b[43m)\u001b[49m\n\u001b[1;32m    983\u001b[0m \u001b[38;5;28;01mif\u001b[39;00m is_hashable(key):\n\u001b[1;32m    984\u001b[0m     \u001b[38;5;66;03m# Otherwise index.get_value will raise InvalidIndexError\u001b[39;00m\n\u001b[1;32m    985\u001b[0m     \u001b[38;5;28;01mtry\u001b[39;00m:\n\u001b[1;32m    986\u001b[0m         \u001b[38;5;66;03m# For labels that don't resolve as scalars like tuples and frozensets\u001b[39;00m\n",
      "File \u001b[0;32m~/.local/lib/python3.10/site-packages/pandas/core/series.py:1089\u001b[0m, in \u001b[0;36mSeries._get_value\u001b[0;34m(self, label, takeable)\u001b[0m\n\u001b[1;32m   1086\u001b[0m     \u001b[38;5;28;01mreturn\u001b[39;00m \u001b[38;5;28mself\u001b[39m\u001b[38;5;241m.\u001b[39m_values[label]\n\u001b[1;32m   1088\u001b[0m \u001b[38;5;66;03m# Similar to Index.get_value, but we do not fall back to positional\u001b[39;00m\n\u001b[0;32m-> 1089\u001b[0m loc \u001b[38;5;241m=\u001b[39m \u001b[38;5;28;43mself\u001b[39;49m\u001b[38;5;241;43m.\u001b[39;49m\u001b[43mindex\u001b[49m\u001b[38;5;241;43m.\u001b[39;49m\u001b[43mget_loc\u001b[49m\u001b[43m(\u001b[49m\u001b[43mlabel\u001b[49m\u001b[43m)\u001b[49m\n\u001b[1;32m   1090\u001b[0m \u001b[38;5;28;01mreturn\u001b[39;00m \u001b[38;5;28mself\u001b[39m\u001b[38;5;241m.\u001b[39mindex\u001b[38;5;241m.\u001b[39m_get_values_for_loc(\u001b[38;5;28mself\u001b[39m, loc, label)\n",
      "File \u001b[0;32m~/.local/lib/python3.10/site-packages/pandas/core/indexes/base.py:3805\u001b[0m, in \u001b[0;36mIndex.get_loc\u001b[0;34m(self, key, method, tolerance)\u001b[0m\n\u001b[1;32m   3803\u001b[0m     \u001b[38;5;28;01mreturn\u001b[39;00m \u001b[38;5;28mself\u001b[39m\u001b[38;5;241m.\u001b[39m_engine\u001b[38;5;241m.\u001b[39mget_loc(casted_key)\n\u001b[1;32m   3804\u001b[0m \u001b[38;5;28;01mexcept\u001b[39;00m \u001b[38;5;167;01mKeyError\u001b[39;00m \u001b[38;5;28;01mas\u001b[39;00m err:\n\u001b[0;32m-> 3805\u001b[0m     \u001b[38;5;28;01mraise\u001b[39;00m \u001b[38;5;167;01mKeyError\u001b[39;00m(key) \u001b[38;5;28;01mfrom\u001b[39;00m \u001b[38;5;21;01merr\u001b[39;00m\n\u001b[1;32m   3806\u001b[0m \u001b[38;5;28;01mexcept\u001b[39;00m \u001b[38;5;167;01mTypeError\u001b[39;00m:\n\u001b[1;32m   3807\u001b[0m     \u001b[38;5;66;03m# If we have a listlike key, _check_indexing_error will raise\u001b[39;00m\n\u001b[1;32m   3808\u001b[0m     \u001b[38;5;66;03m#  InvalidIndexError. Otherwise we fall through and re-raise\u001b[39;00m\n\u001b[1;32m   3809\u001b[0m     \u001b[38;5;66;03m#  the TypeError.\u001b[39;00m\n\u001b[1;32m   3810\u001b[0m     \u001b[38;5;28mself\u001b[39m\u001b[38;5;241m.\u001b[39m_check_indexing_error(key)\n",
      "\u001b[0;31mKeyError\u001b[0m: 0"
     ]
    }
   ],
   "source": [
    "acc = df[df['action'] == 'lock']\n",
    "print(acc)\n",
    "\n",
    "print('computing spans...')\n",
    "average_spans = {'timestamp': [], 'avg_span': []}\n",
    "k = 10000 # len(acc['address']) // 500 # number of accesses to measure span over\n",
    "\n",
    "for i in range(0, len(acc['address']), k):\n",
    "    dist = 0\n",
    "    average_spans['timestamp'].append(i)\n",
    "    last = acc['address'][i]\n",
    "    for a in acc['address'][i+1:i+k]:\n",
    "        dist += abs(last - a)\n",
    "        last = a\n",
    "    dist /= k\n",
    "    average_spans['avg_span'].append(dist)\n",
    "print('plotting...')\n",
    "\n",
    "scale = 1\n",
    "fig, ax = plt.subplots(figsize=(21 * scale, 9 * scale))\n",
    "ax2 = ax.twinx()\n",
    "\n",
    "\n",
    "def hex_yaxis(g):\n",
    "    ylabels = [hex(int(x)) for x in g.get_yticks()]\n",
    "    g.set_yticklabels(ylabels)\n",
    "    \n",
    "g = sns.scatterplot(data=acc, x='timestamp', y='address', hue='action', ax=ax,\n",
    "                marker='.',\n",
    "                alpha=1,\n",
    "                linewidth=0,\n",
    "                palette=\"muted\")\n",
    "hex_yaxis(g)\n",
    "\n",
    "g = sns.lineplot(data=pd.DataFrame(average_spans), x='timestamp', y='avg_span', ax=ax2, color='black', alpha=1)\n",
    "hex_yaxis(g)\n",
    "\n",
    "plt.grid()\n",
    "plt.show()"
   ]
  },
  {
   "cell_type": "code",
   "execution_count": 154,
   "id": "01a4e973",
   "metadata": {
    "scrolled": false
   },
   "outputs": [
    {
     "name": "stdout",
     "output_type": "stream",
     "text": [
      "         timestamp          address  size action\n",
      "0                0  281472823025664  1624  alloc\n",
      "38              38  281472823054336   720  alloc\n",
      "147            147  281472823066624    56  alloc\n",
      "173            173  281472823070720    32  alloc\n",
      "193            193  281472823066688    56  alloc\n",
      "...            ...              ...   ...    ...\n",
      "1232246    1232246  281472823069952    64   free\n",
      "1232255    1232255  281472823070080    64   free\n",
      "1232264    1232264  281472823070336    64   free\n",
      "1232274    1232274  281472823162368  1360   free\n",
      "1232279    1232279  281472823025664  1624   free\n",
      "\n",
      "[3786 rows x 4 columns]\n",
      "281471975772416 281471977061568\n",
      "address space: 0xffff4d215100-0xffff4d34fcc0 (1289152 bytes)\n",
      "18635 9.705729166666666\n"
     ]
    },
    {
     "data": {
      "image/png": "[encoded data removed]",
      "text/plain": [
       "<IPython.core.display.Image object>"
      ]
     },
     "metadata": {},
     "output_type": "display_data"
    }
   ],
   "source": [
    "import time\n",
    "import PIL.Image\n",
    "from io import BytesIO\n",
    "import IPython.display\n",
    "import numpy as np\n",
    "import math\n",
    "\n",
    "\n",
    "hp = df[df['action'] != 'lock']\n",
    "print(heap_actions)\n",
    "\n",
    "def show_heap(a, fmt='png'):\n",
    "    a = np.uint8(a)\n",
    "    f = BytesIO()\n",
    "    PIL.Image.fromarray(a).save(f, fmt)\n",
    "    IPython.display.display(IPython.display.Image(data=f.getvalue()))\n",
    "\n",
    "max_addr = int(max(df['address']))\n",
    "min_addr = int(min(df['address']))\n",
    "print(min_addr, max_addr)\n",
    "\n",
    "addr_range = max_addr - min_addr\n",
    "\n",
    "print(f'address space: {hex(min_addr)}-{hex(max_addr)} ({addr_range} bytes)')\n",
    "\n",
    "width = 1920\n",
    "heap_timeseries = []\n",
    "\n",
    "\n",
    "# each cell in the heap represents how many allocations cross into each cell\n",
    "heap = [0] * (width + 1)\n",
    "\n",
    "last_b = None\n",
    "\n",
    "def convert_addr(addr):\n",
    "    b = (addr - min_addr) / (addr_range)\n",
    "    b = int(b * width)\n",
    "    if b >= width:\n",
    "        b = 0\n",
    "    if b < 0:\n",
    "        b = 0\n",
    "    return b\n",
    "    \n",
    "bin_size = len(hp['address']) / width\n",
    "print(len(hp['address']), bin_size)\n",
    "\n",
    "current_size = 0\n",
    "for i, row in hp.iterrows():\n",
    "    addr, size, action = row['address'], row['size'], row['action']\n",
    "    delta = 1 if action == 'alloc' else -1\n",
    "    begin = convert_addr(addr)\n",
    "    end = convert_addr(addr + size)\n",
    "    for b in range(begin, end+2):\n",
    "        heap[b] += delta\n",
    "    current_size += 1\n",
    "    if current_size >= bin_size:\n",
    "        heap_timeseries.append([x if x > 0 else 0 for x in heap])\n",
    "        current_size = 0\n",
    "\n",
    "        \n",
    "def normalized(a):\n",
    "    return (a-np.min(a))/(np.max(a)-np.min(a))\n",
    "\n",
    "# display(heap_timeseries)\n",
    "r = normalized(heap_timeseries) * 255\n",
    "show_heap(r)"
   ]
  },
  {
   "cell_type": "code",
   "execution_count": null,
   "id": "05e6a641",
   "metadata": {},
   "outputs": [],
   "source": []
  }
 ],
 "metadata": {
  "kernelspec": {
   "display_name": "Python 3 (ipykernel)",
   "language": "python",
   "name": "python3"
  },
  "language_info": {
   "codemirror_mode": {
    "name": "ipython",
    "version": 3
   },
   "file_extension": ".py",
   "mimetype": "text/x-python",
   "name": "python",
   "nbconvert_exporter": "python",
   "pygments_lexer": "ipython3",
   "version": "3.10.6"
  }
 },
 "nbformat": 4,
 "nbformat_minor": 5
}
